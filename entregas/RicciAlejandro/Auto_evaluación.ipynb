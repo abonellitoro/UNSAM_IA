{
  "nbformat": 4,
  "nbformat_minor": 0,
  "metadata": {
    "colab": {
      "name": "Auto-evaluación.ipynb",
      "provenance": [],
      "collapsed_sections": []
    },
    "kernelspec": {
      "display_name": "Python 3",
      "language": "python",
      "name": "python3"
    },
    "language_info": {
      "codemirror_mode": {
        "name": "ipython",
        "version": 3
      },
      "file_extension": ".py",
      "mimetype": "text/x-python",
      "name": "python",
      "nbconvert_exporter": "python",
      "pygments_lexer": "ipython3",
      "version": "3.6.4"
    }
  },
  "cells": [
    {
      "cell_type": "markdown",
      "metadata": {
        "id": "a9tvmzdf25HH",
        "colab_type": "text"
      },
      "source": [
        "## Presentación\n",
        "\n",
        "Estos ejercicios tienen el fin de poder evaluar la situación en la que se encuentra cada unx de ustedes a esta altura de la materia. No es un examen, ni llevará ningún tipo de nota.\n",
        "\n",
        "Les pedimos que respeten al pie de la letra el nombre de las funciones que les damos para completar y su \"signature\". Esto es, que respeten los argumentos de entrada y la salida. Esto es porque tenemos una forma de verificación automática que de otra manera no funciona. Cuando hayamos recibido los notebooks, haremos público el código de control.\n",
        "\n",
        "Por supuesto, si quieren agregar celdas y más código, si quieren hacer pruebas para asegurarse de que el código funciona, etc., pueden hacerlo aquí mismo.\n",
        "\n",
        "La _modalidad de entrega preferencial_ es a través de GitHub:\n",
        "1. Hacer un fork del [repositorio](https://github.com/exord/UNSAM_IA), tocando el botón de arriba a la derecha (ver figura). \n",
        "\n",
        "2. Crear un subdirectorio dentro del directorio <tt>entregas</tt> con el formato \"ApellidoNombre\"\n",
        "3. Completar este notebook y colocarlo en ese directorio. Hacer un \"commit\" y un \"push\" a su versión del repositorio.\n",
        "4. Realizar un <tt>pull request</tt> desde GitHub y seguir las instrucciones. Más información en la [página de GitHub](https://help.github.com/en/github/collaborating-with-issues-and-pull-requests/about-pull-requests).\n",
        "\n",
        "De ser necesario, en caso de sufrir de **alergia severa a GitHub**, el notebook puede enviarse por email.\n",
        "\n",
        "La **fecha límite** para la entrega es el **martes 21 de abril a las 20 horas**.\n",
        "\n",
        "<figure>\n",
        "    <img src=\"https://github.com/exord/UNSAM_IA/blob/master/figures/fork_pullrequest.jpeg?raw=1\", alt=\"Fork\", width=\"800px\", \n",
        "         style=\"float: left; margin-right: 10px;\"/>\n",
        "    \n",
        "     <figcaption>Fig.1 - Ubicación de los botones para Fork y Pull request en Github.</figcaption>\n",
        "</figure>"
      ]
    },
    {
      "cell_type": "markdown",
      "metadata": {
        "colab_type": "text",
        "id": "xQGJAaz9My8p"
      },
      "source": [
        "## 1. Probabilidad Condicional"
      ]
    },
    {
      "cell_type": "code",
      "metadata": {
        "colab_type": "code",
        "id": "UV8ZHtWoMWVd",
        "colab": {}
      },
      "source": [
        "#Si estas en Google Colab, ejecuta esta celda una unica vez:\n",
        "!mkdir datasets\n",
        "!mkdir datasets/student-alcohol-consumption\n",
        "!wget https://raw.githubusercontent.com/exord/UNSAM_IA/master/datasets/student-alcohol-consumption/student-mat.csv\n",
        "!mv student-mat.csv datasets/student-alcohol-consumption/student-mat.csv"
      ],
      "execution_count": 0,
      "outputs": []
    },
    {
      "cell_type": "markdown",
      "metadata": {
        "colab_type": "text",
        "id": "MDyX2WNDM1fC"
      },
      "source": [
        "Similar al ***Caso: Apruebo si falto a clase?*** del [notebook de probabilidad condicional](02_Condicional.ipynb), calcule la probabilidad de que un alumno haya faltado menos de 3 veces dado que sacó más de un 60% en la materia, i.e.\n",
        "$$\n",
        "P( \\text{absences} < 3 | \\text{G3} \\geq 12).\n",
        "$$\n",
        "\n",
        "Por favor, utilice el siguiente signature. Se recomienda cambiar el código solamente entre los comentarios \"Start\" y \"Finish\". \n",
        "Si quiere probar cosas, siéntase libre de crear nuevas celdas de código, aunque estas no serán evaluadas."
      ]
    },
    {
      "cell_type": "code",
      "metadata": {
        "colab_type": "code",
        "id": "kgp3Px1JNFbA",
        "colab": {}
      },
      "source": [
        "import numpy as np\n",
        "import pandas as pd\n",
        "\n",
        "def prob_condicional(\n",
        "  df=pd.read_csv('datasets/student-alcohol-consumption/student-mat.csv')):\n",
        "    \"\"\"Calcula P(absences < 3 | G3 >= 12).\n",
        "\n",
        "    Input:\n",
        "    df -- dataset de estudiantes\n",
        "\n",
        "    Output:\n",
        "    p        -- probabilidad de que absences < 3 dado que G3 >= 12\n",
        "    \"\"\"\n",
        "    #Start\n",
        "    #Ahora bien, yo se que P(absences < 3 | G3 >= 12) = P(absences < 3 y G3 >= 12) / P(G3 >= 12)\n",
        "    #Calculo cada una de esas probabilidades\n",
        "    amount_AyB = df[(df['absences'] < 3) & (df['G3'] >= 12)].shape[0]\n",
        "    amount_B = df[(df['G3'] >= 12)].shape[0]\n",
        "    total = df.shape[0]\n",
        "\n",
        "    p_AyB = amount_AyB / total\n",
        "    p_B = amount_B / total\n",
        "\n",
        "    p_A_B = p_AyB / p_B\n",
        "\n",
        "    #guarda el valor final, como un número, en esta variable\n",
        "    resultado = p_A_B #si se quiere en porcentaje habria que multiplicar esto por 100, pero no estoy seguro que pide el problema\n",
        "    \n",
        "    #Finish\n",
        "    return resultado"
      ],
      "execution_count": 0,
      "outputs": []
    },
    {
      "cell_type": "code",
      "metadata": {
        "id": "3RXd0kACCYiA",
        "colab_type": "code",
        "colab": {}
      },
      "source": [
        "#### Test function ####\n",
        "prob_condicional()"
      ],
      "execution_count": 0,
      "outputs": []
    },
    {
      "cell_type": "code",
      "metadata": {
        "id": "7BLXt9Pz446X",
        "colab_type": "code",
        "colab": {}
      },
      "source": [
        "#### Asi lo empece a hacer, que es como la teorica, pero era mas complicado :p ####\n",
        "import numpy as np\n",
        "import pandas as pd\n",
        "\n",
        "df=pd.read_csv('datasets/student-alcohol-consumption/student-mat.csv')\n",
        "\n",
        "#Agrego columnas con un 1 o un 0 representando si cumple o no cada una de las condiciones pedidas\n",
        "df['falto_poco'] = np.where(df['absences'] < 3, 1, 0)\n",
        "df['buenas_notas'] = np.where(df['G3'] >= 12, 1, 0)\n",
        "\n",
        "#Agrego columna auxiliar para contar filas\n",
        "df['contar_aux'] = 1\n",
        "\n",
        "#Nos quedamos con las columnas de interes\n",
        "df = df[['falto_poco', 'buenas_notas', 'contar_aux']]\n",
        "\n",
        "#Calculamos las cantidades\n",
        "combinations = pd.pivot_table(\n",
        "    df,\n",
        "    values = 'contar_aux',\n",
        "    index = ['falto_poco'],\n",
        "    columns = ['buenas_notas'],\n",
        "    aggfunc = np.sum,\n",
        "    fill_value = 0)\n",
        "\n",
        "combinations\n",
        "#131, 81, 102, 81"
      ],
      "execution_count": 0,
      "outputs": []
    },
    {
      "cell_type": "markdown",
      "metadata": {
        "colab_type": "text",
        "id": "laC3JpLHOx-h"
      },
      "source": [
        "## 2. Inferencia Bayesiana"
      ]
    },
    {
      "cell_type": "markdown",
      "metadata": {
        "colab_type": "text",
        "id": "dfG9aID6_CLD"
      },
      "source": [
        "Se tira una moneda N veces, de las cuales X sale cara. La moneda sale cara con una frecuencia $\\mu$ desconocida, pero que se cree que es *fair*. \n",
        "\n",
        "Construya una función que recibe el vector con los N resultados (1: cara, 0: seca) y con él calcule tanto el posterior del parámetro $\\mu$ como la probabilidad de que $\\mu>0.7$. Use como prior una distribución normal con media 0.5 y desviación estandar 0.1 ($\\mathcal{N}(0.5,0.1)$)\n",
        "\n",
        "Por favor, utilice el siguiente signature. Se recomienda cambiar el código solamente entre los comentarios \"Start\" y \"Finish\". \n",
        "Si quiere probar cosas, siéntase libre de crear nuevas celdas de código, aunque estas no serán evaluadas.\n",
        "\n",
        "<b>Ayuda</b>: usar los métodos <tt>pdf</tt> y <tt>pmf</tt> de las clases de <tt>scipy.stats</tt> que se importan al principio de la celda. Revisar también los notebooks de [teoría](03_Inferencia.ipynb) y [práctica](03p_Inferencia_Soluciones.ipynb) que se presentaron en clase."
      ]
    },
    {
      "cell_type": "code",
      "metadata": {
        "colab_type": "code",
        "id": "-NY1kRNs1GnH",
        "colab": {}
      },
      "source": [
        "import numpy as np\n",
        "from scipy.stats import binom, norm\n",
        "\n",
        "def inferencia_moneda(tiradas, seed=123):\n",
        "    \"\"\"Realiza inferencia bayesiana en el parametro mu de una moneda.\n",
        "\n",
        "    Input:\n",
        "    tiradas -- Resultado de N tiradas\n",
        "    seed    -- Semilla para np.random (default=123)\n",
        "\n",
        "    Output:\n",
        "    p        -- probabilidad de que mu>0.7\n",
        "    posterior-- posterior de mu, shape=(100,)\n",
        "    \"\"\"\n",
        "\n",
        "    np.random.seed(seed)\n",
        "    mu, step = np.linspace(0, 1, num = 100, retstep = True) #step es el espacio entre puntos\n",
        "\n",
        "    #Numero de tiradas, y de veces que salio cara\n",
        "    N = len(tiradas)\n",
        "    X = np.sum(tiradas)\n",
        "\n",
        "    #Start\n",
        "    #Cambio el nombre a algunas variables (para facilidad mental nomas)\n",
        "    mu_x = mu\n",
        "    step_x = step\n",
        "    cant_tiradas = N\n",
        "    cant_caras = X\n",
        "\n",
        "    #Calculo el prior\n",
        "    prior = norm.pdf(mu_x, 0.5, 0.1)\n",
        "\n",
        "    #Calculo la verosimilitud\n",
        "    verosimilitud = binom.pmf(cant_caras, cant_tiradas, mu_x)\n",
        "\n",
        "    #Calculo el pseudo posterior\n",
        "    pseudo_posterior = prior * verosimilitud\n",
        "\n",
        "    #Calculo la evidencia\n",
        "    evidencia  = pseudo_posterior.sum() * step_x\n",
        "\n",
        "    #Calculo el posterior\n",
        "    posterior = pseudo_posterior / evidencia\n",
        "\n",
        "    #Calculo la nueva probabilidad de que mu > 0.7\n",
        "    np_mu_x = np.array(mu_x)\n",
        "    np_posterior = np.array(posterior)\n",
        "    probabilidad_mu_gt_07 = np_posterior[np_mu_x > 0.7].sum() * step_x\n",
        "\n",
        "    p = probabilidad_mu_gt_07 #Probabilidad de que mu > 0.7\n",
        "\n",
        "    #Finish\n",
        "    assert len(posterior) == len(mu), \"Tamaño del posterior distinto al de mu\"\n",
        "    return p, np.array(posterior)\n"
      ],
      "execution_count": 0,
      "outputs": []
    },
    {
      "cell_type": "code",
      "metadata": {
        "id": "c9RlYq1yMdJG",
        "colab_type": "code",
        "colab": {}
      },
      "source": [
        "#### Test function ####\n",
        "#tiradas = np.random.randint(2, size=100)\n",
        "tiradas = [1,1,1,1,1,0,1,1,1,1,0,1,1,1,0]\n",
        "inferencia_moneda(tiradas)"
      ],
      "execution_count": 0,
      "outputs": []
    },
    {
      "cell_type": "code",
      "metadata": {
        "id": "vRucusP7CAJI",
        "colab_type": "code",
        "colab": {}
      },
      "source": [
        "#### Build function ####\n",
        "import numpy as np\n",
        "from scipy.stats import binom, norm\n",
        "\n",
        "tiradas = np.random.randint(2, size=100)\n",
        "seed = 123\n",
        "\n",
        "np.random.seed(seed)\n",
        "mu, step = np.linspace(0, 1, num=100, retstep=True) #step es el espacio entre puntos\n",
        "\n",
        "#Numero de tiradas, y de veces que salio cara\n",
        "N=len(tiradas)\n",
        "X=np.sum(tiradas)"
      ],
      "execution_count": 0,
      "outputs": []
    },
    {
      "cell_type": "code",
      "metadata": {
        "id": "JLbZsA02E0PP",
        "colab_type": "code",
        "colab": {}
      },
      "source": [
        "#Cambiar el nombre a algunas variables\n",
        "mu_x = mu\n",
        "cant_tiradas = N\n",
        "cant_caras = X\n",
        "\n",
        "#Calcular el prior\n",
        "prior = norm.pdf(mu_x, 0.5, 0.1)\n",
        "\n",
        "#Calculo la verosimilitud\n",
        "verosimilitud = binom.pmf(cant_caras, cant_tiradas, mu_x)\n",
        "\n",
        "#Calculo el pseudo posterior\n",
        "pseudo_posterior = prior * verosimilitud\n",
        "\n",
        "#Calculo la evidencia\n",
        "evidencia  = pseudo_posterior.sum() * step\n",
        "\n",
        "#Calculo el posterior\n",
        "posterior = pseudo_posterior / evidencia\n",
        "\n",
        "#Calculo la nueva probabilidad de que mu > 0.7\n",
        "np_mu_x = np.array(mu_x)\n",
        "np_posterior = np.array(posterior)\n",
        "probabilidad_mu_gt_07 = np_posterior[np_mu_x > 0.7].sum()"
      ],
      "execution_count": 0,
      "outputs": []
    },
    {
      "cell_type": "code",
      "metadata": {
        "id": "K2LpgEdkHWdy",
        "colab_type": "code",
        "colab": {}
      },
      "source": [
        "from matplotlib import pylab as plt\n",
        "plt.plot(mu_x, prior, label = \"prior\")\n",
        "plt.plot(mu_x, verosimilitud, label = \"verosimilitud\")\n",
        "plt.plot(mu_x, pseudo_posterior, label = \"pseudo_posterior\")\n",
        "plt.plot(mu_x, posterior, label = \"posterior\")\n",
        "\n",
        "plt.legend(loc = 0)"
      ],
      "execution_count": 0,
      "outputs": []
    },
    {
      "cell_type": "markdown",
      "metadata": {
        "colab_type": "text",
        "id": "koZhGjvgO4uo"
      },
      "source": [
        "## 3. Regresión Lineal"
      ]
    },
    {
      "cell_type": "markdown",
      "metadata": {
        "colab_type": "text",
        "id": "TLYPUIQrPMgk"
      },
      "source": [
        "Construye una función que dado un input (X_train, Y_train) realice un ajuste lineal de cuadrados mínimos, y con ello devuelva las predicciones para el input X_test como un vector Y_test.\n",
        "\n",
        "Por favor, utilice el siguiente signature. Se recomienda cambiar el código solamente entre los comentarios \"Start\" y \"Finish\". \n",
        "Si quiere probar cosas, siéntase libre de crear nuevas celdas de código, aunque estas no serán evaluadas.\n",
        "\n",
        "<b>Ayuda</b>: pueden usar la implementación de las ecuaciones normales que aparece en el notebook de [modelos lineales](05_ModelosLineales.ipynb) o las clases del módulo <tt>sklearn.linear_model</tt>."
      ]
    },
    {
      "cell_type": "code",
      "metadata": {
        "colab_type": "code",
        "id": "NavUqiDhPLx-",
        "colab": {}
      },
      "source": [
        "import numpy as np\n",
        "\n",
        "def ajuste_lineal(X_train, Y_train, X_test):\n",
        "    \"\"\"Calcula un ajuste lineal.\n",
        "\n",
        "    Input:\n",
        "    X_train -- datos de entrenamiento, shape=(N,1)\n",
        "    Y_train -- etiquetas de entrenamiento, shape=(N,1)\n",
        "    X_test  -- datos de testeo, shape=(N_test,1)\n",
        "\n",
        "    Output:\n",
        "    Y_test  -- prediccion de etiquetas para X_test, shape=(N_test,1)\n",
        "    \"\"\"\n",
        "\n",
        "    N = len(X_train)\n",
        "    N_test = len(X_test)\n",
        "\n",
        "    #Start\n",
        "    #Renombro algunas variables (para matchear codigo mio :p)\n",
        "    x_train = X_train\n",
        "    y_train = Y_train\n",
        "    x_test = X_test\n",
        "\n",
        "    #Ponemos nuestros datos en matrices\n",
        "    x0_train = np.ones((len(x_train), 1))\n",
        "    x_train = x_train.reshape(len(x_train), 1) #me aseguro que los vectores dados sean vector columna\n",
        "    y_train = y_train.reshape(len(y_train), 1) #me aseguro que los vectores dados sean vector columna\n",
        "\n",
        "    phi_train = np.hstack([x0_train, x_train])\n",
        "\n",
        "    #Calculamos el predictor \n",
        "    phi_T_dot_phi = np.dot(phi_train.T, phi_train)\n",
        "    phi_T_dot_y = np.dot(phi_train.T, y_train)\n",
        "\n",
        "    w = np.linalg.solve(phi_T_dot_phi, phi_T_dot_y)\n",
        "\n",
        "    #Calculamos la prediccion para el testing set\n",
        "    x0_test = np.ones((len(x_test), 1))\n",
        "    x_test = x_test.reshape(len(x_test), 1) #me aseguro que los vectores dados sean vector columna\n",
        "\n",
        "    phi_test = np.hstack([x0_test, x_test])\n",
        "\n",
        "    #Predigo los Y para el test\n",
        "    y_test_predicted = np.dot(phi_test, w)\n",
        "    \n",
        "    #ahora guardamos los resultados en esta variable\n",
        "    Y_test = y_test_predicted\n",
        "\n",
        "    #Finish\n",
        "    assert len(Y_test) == len(X_test), \"Tamaño de Y_test distinto al de X_test\"\n",
        "    return np.array(Y_test)"
      ],
      "execution_count": 0,
      "outputs": []
    },
    {
      "cell_type": "code",
      "metadata": {
        "id": "WdG9WpJUPcEc",
        "colab_type": "code",
        "colab": {}
      },
      "source": [
        "#### Test function ####\n",
        "import numpy as np\n",
        "import numpy.random as rr\n",
        "from matplotlib import pylab as plt\n",
        "\n",
        "#Creamos datos aleatorios alrededor de una recta (simulo datos de algun experimento)\n",
        "n = 100 #cantidad de X\n",
        "x = rr.rand(n, 1)\n",
        "x = x * 2 #esto amplia el rango (opcional, queda mas lindo el dibujo con el ruido por defecto)\n",
        "\n",
        "#Definamos la recta y calculemos los Y (b y m son las incognitas que queremos predecir)\n",
        "b = 4\n",
        "m = 5\n",
        "y = b + m * x\n",
        "\n",
        "#Agregamos un poco de ruido a los Y (uso una distribucion normal para el ruido)\n",
        "ruido = rr.randn(n, 1)\n",
        "y = y + ruido\n",
        "\n",
        "X_train = x\n",
        "Y_train = y\n",
        "X_test = x #no es ideal, pero es para un test rapido nomas\n",
        "\n",
        "Y_test = ajuste_lineal(X_train, Y_train, X_test)\n",
        "\n",
        "#Ploteo los datos originales y la recta donde ajustaron los datos predichos\n",
        "plt.plot(x, y, '.')\n",
        "plt.plot(X_test, Y_test, '-r')\n",
        "plt.xlabel('X')\n",
        "plt.ylabel('Y')"
      ],
      "execution_count": 0,
      "outputs": []
    },
    {
      "cell_type": "code",
      "metadata": {
        "id": "38ERCAUEPVvm",
        "colab_type": "code",
        "colab": {}
      },
      "source": [
        "#### Build function ####\n",
        "import numpy as np\n",
        "import numpy.random as rr\n",
        "## Creamos datos aleatorios alrededor de una recta (simulo datos de algun experimento)\n",
        "#Calculamos los X\n",
        "n = 100 #cantidad de X\n",
        "x = rr.rand(n, 1)\n",
        "x = x * 2 #esto amplia el rango (opcional, queda mas lindo el dibujo con el ruido por defecto)\n",
        "\n",
        "#Definamos la recta y calculemos los Y (b y m son las incognitas que queremos predecir)\n",
        "b = 4\n",
        "m = 5\n",
        "y = b + m * x\n",
        "\n",
        "#Agregamos un poco de ruido a los Y (uso una distribucion normal para el ruido)\n",
        "ruido = rr.randn(n, 1)\n",
        "y = y + ruido\n",
        "\n",
        "X_train = x\n",
        "Y_train = y\n",
        "X_test = x #no es ideal, pero es para un test rapido nomas"
      ],
      "execution_count": 0,
      "outputs": []
    },
    {
      "cell_type": "code",
      "metadata": {
        "id": "z2cPd_z6QBAm",
        "colab_type": "code",
        "colab": {}
      },
      "source": [
        "#Renombro algunas variables (para matchear codigo mio :p)\n",
        "x_train = X_train\n",
        "y_train = Y_train\n",
        "x_test = X_test\n",
        "\n",
        "#Ponemos nuestros datos en matrices\n",
        "x0_train = np.ones((len(x_train), 1))\n",
        "x_train = x_train.reshape(len(x_train), 1) #esto lo transforma en vector columna (era fila)\n",
        "y_train = y_train.reshape(len(y_train), 1) #esto lo transforma en vector columna (era fila)\n",
        "\n",
        "phi_train = np.hstack([x0_train, x_train])\n",
        "\n",
        "#Calculamos el predictor \n",
        "phi_T_dot_phi = np.dot(phi_train.T, phi_train) \n",
        "phi_T_dot_y = np.dot(phi_train.T, y_train)\n",
        "\n",
        "w = np.linalg.solve(phi_T_dot_phi, phi_T_dot_y)\n",
        "\n",
        "#Calculamos la prediccion para el testing set\n",
        "x0_test = np.ones((len(x_test), 1))\n",
        "x_test = x_test.reshape(len(x_test), 1) #esto lo transforma en vector columna (era fila)\n",
        "\n",
        "phi_test = np.hstack([x0_test, x_test])\n",
        "\n",
        "#Predigo los Y para el test\n",
        "y_test_predicted = np.dot(phi_test, w)"
      ],
      "execution_count": 0,
      "outputs": []
    }
  ]
}